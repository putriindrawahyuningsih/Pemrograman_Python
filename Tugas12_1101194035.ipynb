{
  "nbformat": 4,
  "nbformat_minor": 0,
  "metadata": {
    "colab": {
      "name": "Tugas12_1101194035.ipynb",
      "provenance": [],
      "collapsed_sections": [],
      "authorship_tag": "ABX9TyMSEyU6+qv5YbLnlD5HDrGg",
      "include_colab_link": true
    },
    "kernelspec": {
      "name": "python3",
      "display_name": "Python 3"
    }
  },
  "cells": [
    {
      "cell_type": "markdown",
      "metadata": {
        "id": "view-in-github",
        "colab_type": "text"
      },
      "source": [
        "<a href=\"https://colab.research.google.com/github/putriindrawahyuningsih/Pemrograman_Python/blob/main/Tugas12_1101194035.ipynb\" target=\"_parent\"><img src=\"https://colab.research.google.com/assets/colab-badge.svg\" alt=\"Open In Colab\"/></a>"
      ]
    },
    {
      "cell_type": "code",
      "metadata": {
        "id": "76K4zNTzmYAh"
      },
      "source": [
        "import numpy as np"
      ],
      "execution_count": 17,
      "outputs": []
    },
    {
      "cell_type": "code",
      "metadata": {
        "id": "mThKj8remlNq"
      },
      "source": [
        "mc=10**3 #kilometer to meter\r\n",
        "hc = 10**6 #megahz to hz"
      ],
      "execution_count": 18,
      "outputs": []
    },
    {
      "cell_type": "code",
      "metadata": {
        "id": "0gLHzvV0mp9i"
      },
      "source": [
        "def cost(s,f,type,Ht,Hr):\r\n",
        "  fc=f*hc\r\n",
        "  d=s*mc\r\n",
        "  if (1500<=f<=2000):\r\n",
        "    C1=46.3\r\n",
        "    C2=33.9\r\n",
        "  elif (400<=f<=1500):\r\n",
        "    C1=69.55\r\n",
        "    C2=26.16\r\n",
        "  if type=='urban':\r\n",
        "    Cm=0\r\n",
        "  elif type=='suburban' :\r\n",
        "    Cm=(-2*((np.log10(fc/28))**2))-(5.4)\r\n",
        "  elif type=='open':\r\n",
        "    Cm=(-4.78*(np.log10(fc))**2)+18\r\n",
        "  a=((((1.1*np.log10(fc))-(0.7))*Hr)-((1.56*np.log10(fc))-(0.8)))\r\n",
        "  lp=C1+(C2*np.log10(fc))-(13.83*np.log10(Ht))-a+(44.9-(6.55*np.log10(Ht)))*np.log10(d)+Cm\r\n",
        "  return lp"
      ],
      "execution_count": 22,
      "outputs": []
    },
    {
      "cell_type": "code",
      "metadata": {
        "colab": {
          "base_uri": "https://localhost:8080/"
        },
        "id": "KsCgRKtCmy-Z",
        "outputId": "4071928d-3a97-455f-db8d-ad61400ad10d"
      },
      "source": [
        "Jarak = 100             #km\r\n",
        "Frekuensi = 1000        #MHz\r\n",
        "Tipe = \"urban\"          #Pilihan tipe area(urban/suburban/Open)\r\n",
        "Tm = 90                 #m Tinggi pengirim\r\n",
        "Ta = 10                 #m Tinggi penerima\r\n",
        "\r\n",
        "n=cost(Jarak,Frekuensi,Tipe,Tm,Ta)\r\n",
        "print ('Nilai Pathloss COST 231 adalah',n,'dB')"
      ],
      "execution_count": 31,
      "outputs": [
        {
          "output_type": "stream",
          "text": [
            "Nilai Pathloss COST 231 adalah 313.12138391031624 dB\n"
          ],
          "name": "stdout"
        }
      ]
    }
  ]
}